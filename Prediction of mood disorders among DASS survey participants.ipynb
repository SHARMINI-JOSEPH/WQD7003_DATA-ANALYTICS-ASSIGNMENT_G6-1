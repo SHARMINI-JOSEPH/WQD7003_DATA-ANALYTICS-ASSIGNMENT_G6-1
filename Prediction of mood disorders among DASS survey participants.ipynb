{
 "cells": [
  {
   "cell_type": "markdown",
   "id": "546d6b31",
   "metadata": {},
   "source": [
    "<h2><center>Title: Prediction of Mood Disorders among DASS Survey Participants</center></h2>"
   ]
  },
  {
   "cell_type": "markdown",
   "id": "390dcb4f",
   "metadata": {},
   "source": [
    "<h3><center>WQD7003: Data Analytics (Assignment)</center></h3>\n",
    "<h4><center>Group 6</center></h4>\n",
    "<table style=\"width:100%\">\n",
    "  <tr>\n",
    "    <th style=\"width:10%\">No.</th>\n",
    "    <th>Name</th>\n",
    "    <th>Matric Number</th>\n",
    "  </tr>\n",
    "  <tr>\n",
    "    <td>1.</td>\n",
    "    <td>Amy Amanda Lang Pooi Mun</td>\n",
    "    <td>S2127213</td>\n",
    "  </tr>\n",
    "  <tr>\n",
    "    <td>2.</td>\n",
    "    <td>Prasanta A/L Sathasivam</td>\n",
    "    <td>17157826</td>\n",
    "  </tr>\n",
    "  <tr>\n",
    "    <td>3.</td>\n",
    "    <td>Sharmini Joseph Pereira</td>\n",
    "    <td>S2114594</td>\n",
    "  </tr>\n",
    "  <tr>\n",
    "    <td>4.</td>\n",
    "    <td>Soon Jin Sim</td>\n",
    "    <td>S2043577</td>\n",
    "  </tr>\n",
    "</table>"
   ]
  },
  {
   "cell_type": "markdown",
   "id": "f79b37aa",
   "metadata": {},
   "source": [
    "## Index\n",
    "* [Introduction](#intro)\n",
    "* [Business Goal](#goal1)\n",
    "* [Data Mining Goal](#goal2)\n",
    "* [Initial Questions](#questions)\n",
    "* [Overview & Motivation](#overview)\n",
    "* [Related Work](#table)\n",
    "* [Import Dependencies](#import)\n",
    "* [Data Import](#data_collection)\n",
    "* [Data Preprocessing](#data_preprocessing)\n",
    " - [Data Cleaning](#data_cleaning)\n",
    "     - [Cleaning Part 1](#data_cleaning_part1)\n",
    "     - [Cleaning Part 2](#data_cleaning_part2)\n",
    " - [Data Discretization](#noise)\n",
    "     - [SMOOTHING BY BIN MEDIAN](#median)\n",
    "* [References](#ref)"
   ]
  },
  {
   "cell_type": "markdown",
   "id": "770f5c66",
   "metadata": {},
   "source": [
    "<a class=\"anchor\" id=\"intro\"></a>"
   ]
  },
  {
   "cell_type": "markdown",
   "id": "07c02226",
   "metadata": {},
   "source": [
    "## Introduction "
   ]
  },
  {
   "cell_type": "markdown",
   "id": "1c7f77a1",
   "metadata": {},
   "source": [
    "<p>To determine ideal candidates for stress and other psychological phenomena studies, the Taylor Manifest Anxiety Scale was created in 1953. Thenceforth, it has been employed as a generic personality trait assessment of anxiety. Anxiety is a multifaceted psychological construct that encompasses a variety of aspects associated with excessive worrying which may hinder day-to-day function. The exam has been extensively investigated and utilized in research, although there are some worries that it does not assess a single characteristic, but rather a collection of loosely linked characteristics, impacting the significance of the score.</p>"
   ]
  },
  {
   "cell_type": "markdown",
   "id": "e0ad754b",
   "metadata": {},
   "source": [
    "<p>In the dataset that we are about to explore, the data as collected using an online platform of the Depression Anxiety Stress Scales (DASS) to the public with the consent of providing their answers in a research survey given at the end of the DASS survey. The data collected is from the year 2017 to 2019.<br>\n",
    "Some examples of the questions in the survey that are given in a random order:<br>\n",
    "<br>\n",
    "Q1: I found myself getting upset by quite trivial things.<br>\n",
    "Q2: I was aware of dryness of my mouth.<br>\n",
    "Q3: I couldn't seem to experience any positive feeling at all.<br>\n",
    "<br>\n",
    "Which the participant will rank with a 4-point scale rating:<br>\n",
    "1 = Did not apply to me at all<br>\n",
    "2 = Applied to me to some degree, or some of the time<br>\n",
    "3 = Applied to me to a considerable degree, or a good part of the time<br>\n",
    "4 = Applied to me very much, or most of the time<br>\n",
    "<br>\n",
    "Which indicates how frequent the question applies to them in the past week.<p>"
   ]
  },
  {
   "cell_type": "markdown",
   "id": "49011360",
   "metadata": {},
   "source": [
    "<a class=\"anchor\" id=\"goal1\"></a>"
   ]
  },
  {
   "cell_type": "markdown",
   "id": "98a3661f",
   "metadata": {},
   "source": [
    "## Business Goal "
   ]
  },
  {
   "cell_type": "markdown",
   "id": "6fc4172c",
   "metadata": {},
   "source": [
    "<ol>\n",
    "<li>Detecting depression, anxiety, stress levels to prevent societal problems.</li>\n",
    "</ol>"
   ]
  },
  {
   "cell_type": "markdown",
   "id": "3c0b5cf2",
   "metadata": {},
   "source": [
    "<a class=\"anchor\" id=\"goal2\"></a>"
   ]
  },
  {
   "cell_type": "markdown",
   "id": "d17b5089",
   "metadata": {},
   "source": [
    "## Data Mining Goals "
   ]
  },
  {
   "cell_type": "markdown",
   "id": "d8ee1c8d",
   "metadata": {},
   "source": [
    "<ol>\n",
    "<li>Identifying current psychology state of the survey respondents using their given answers</li>\n",
    "<li>Forecasting the potential mood disorders based on their survey responses</li>\n",
    "</ol>"
   ]
  },
  {
   "cell_type": "markdown",
   "id": "8ae57b13",
   "metadata": {},
   "source": [
    "<a class=\"anchor\" id=\"questions\"></a>"
   ]
  },
  {
   "cell_type": "markdown",
   "id": "3994dd4b",
   "metadata": {},
   "source": [
    "## Initial Questions "
   ]
  },
  {
   "cell_type": "markdown",
   "id": "57b2817d",
   "metadata": {},
   "source": [
    "<ol>\n",
    "<li>What are the indicators of depression, anxiety or stress among the respondents?</li>\n",
    "<li>What is the correlation between depression, anxiety and stress based on the dataset?</li>\n",
    "<li>What are the age groups that are more likely to face depression, anxiety or stress?</li>\n",
    "<li>Which individuals are going to undergo depression, anxiety or stress in the future?</li>\n",
    "</ol>"
   ]
  },
  {
   "cell_type": "markdown",
   "id": "0d80c94c",
   "metadata": {},
   "source": [
    "<a class=\"anchor\" id=\"overview\"></a>"
   ]
  },
  {
   "cell_type": "markdown",
   "id": "b9b75aa2",
   "metadata": {},
   "source": [
    "## Overview and Motivation"
   ]
  },
  {
   "cell_type": "markdown",
   "id": "11d1e36a",
   "metadata": {},
   "source": [
    "<p>During this Covid-19 endemic, many individuals are suffering from depression, anxiety or stress. Many peoples mental health are severely affected during this prolonged lockdown/Covid-19 restriction throughout the country. We have seen several cases whereby individuals caught attempting suicide or even worse committed suicide due to many different reasons. What's more worrying is that several individuals who look and behave normally are facing these issues as well. That shows mental health problems or mood disorders in people are often goes undetected.</p>"
   ]
  },
  {
   "cell_type": "markdown",
   "id": "6d9638e0",
   "metadata": {},
   "source": [
    "<p>Hence, we are trying to make use of the data from the DASS survey to predict individuals who are more likely to face disorders and then send help to the respective individuals. The ultimate goal of this study is to build an application that actively detects mental health issues using social media data and recommends appropriate actions that need to be taken by the responsible authorities. In doing so, this could prevent in thus reduce the suicidal rate in our country.</p>"
   ]
  },
  {
   "cell_type": "markdown",
   "id": "97c579fa",
   "metadata": {},
   "source": [
    "<a class=\"anchor\" id=\"table\"></a>"
   ]
  },
  {
   "cell_type": "markdown",
   "id": "aa69eac6",
   "metadata": {},
   "source": [
    "## Related Work "
   ]
  },
  {
   "cell_type": "markdown",
   "id": "784aa4a4",
   "metadata": {},
   "source": [
    "![](table.png)"
   ]
  },
  {
   "cell_type": "markdown",
   "id": "2e7ff52b",
   "metadata": {},
   "source": [
    "<a class=\"anchor\" id=\"import\"></a>"
   ]
  },
  {
   "cell_type": "markdown",
   "id": "d4adf007",
   "metadata": {},
   "source": [
    "## Import Dependencies"
   ]
  },
  {
   "cell_type": "code",
   "execution_count": 2,
   "id": "3a67ccd7",
   "metadata": {},
   "outputs": [],
   "source": [
    "import pandas as pd\n",
    "import numpy as np\n",
    "import missingno as msno\n",
    "import matplotlib.pyplot as plt\n",
    "from scipy.stats import binned_statistic"
   ]
  },
  {
   "cell_type": "markdown",
   "id": "8b823ddc",
   "metadata": {},
   "source": [
    "<a class=\"anchor\" id=\"data_collection\"></a>"
   ]
  },
  {
   "cell_type": "markdown",
   "id": "5bfc965b",
   "metadata": {},
   "source": [
    "## Data Import "
   ]
  },
  {
   "cell_type": "code",
   "execution_count": 3,
   "id": "495b1c16",
   "metadata": {},
   "outputs": [
    {
     "data": {
      "text/html": [
       "<div>\n",
       "<style scoped>\n",
       "    .dataframe tbody tr th:only-of-type {\n",
       "        vertical-align: middle;\n",
       "    }\n",
       "\n",
       "    .dataframe tbody tr th {\n",
       "        vertical-align: top;\n",
       "    }\n",
       "\n",
       "    .dataframe thead th {\n",
       "        text-align: right;\n",
       "    }\n",
       "</style>\n",
       "<table border=\"1\" class=\"dataframe\">\n",
       "  <thead>\n",
       "    <tr style=\"text-align: right;\">\n",
       "      <th></th>\n",
       "      <th>Q1A</th>\n",
       "      <th>Q1I</th>\n",
       "      <th>Q1E</th>\n",
       "      <th>Q2A</th>\n",
       "      <th>Q2I</th>\n",
       "      <th>Q2E</th>\n",
       "      <th>Q3A</th>\n",
       "      <th>Q3I</th>\n",
       "      <th>Q3E</th>\n",
       "      <th>Q4A</th>\n",
       "      <th>...</th>\n",
       "      <th>screensize</th>\n",
       "      <th>uniquenetworklocation</th>\n",
       "      <th>hand</th>\n",
       "      <th>religion</th>\n",
       "      <th>orientation</th>\n",
       "      <th>race</th>\n",
       "      <th>voted</th>\n",
       "      <th>married</th>\n",
       "      <th>familysize</th>\n",
       "      <th>major</th>\n",
       "    </tr>\n",
       "  </thead>\n",
       "  <tbody>\n",
       "    <tr>\n",
       "      <th>0</th>\n",
       "      <td>4</td>\n",
       "      <td>28</td>\n",
       "      <td>3890</td>\n",
       "      <td>4</td>\n",
       "      <td>25</td>\n",
       "      <td>2122</td>\n",
       "      <td>2</td>\n",
       "      <td>16</td>\n",
       "      <td>1944</td>\n",
       "      <td>4</td>\n",
       "      <td>...</td>\n",
       "      <td>1</td>\n",
       "      <td>1</td>\n",
       "      <td>1</td>\n",
       "      <td>12</td>\n",
       "      <td>1</td>\n",
       "      <td>10</td>\n",
       "      <td>2</td>\n",
       "      <td>1</td>\n",
       "      <td>2</td>\n",
       "      <td>NaN</td>\n",
       "    </tr>\n",
       "    <tr>\n",
       "      <th>1</th>\n",
       "      <td>4</td>\n",
       "      <td>2</td>\n",
       "      <td>8118</td>\n",
       "      <td>1</td>\n",
       "      <td>36</td>\n",
       "      <td>2890</td>\n",
       "      <td>2</td>\n",
       "      <td>35</td>\n",
       "      <td>4777</td>\n",
       "      <td>3</td>\n",
       "      <td>...</td>\n",
       "      <td>2</td>\n",
       "      <td>1</td>\n",
       "      <td>2</td>\n",
       "      <td>7</td>\n",
       "      <td>0</td>\n",
       "      <td>70</td>\n",
       "      <td>2</td>\n",
       "      <td>1</td>\n",
       "      <td>4</td>\n",
       "      <td>NaN</td>\n",
       "    </tr>\n",
       "    <tr>\n",
       "      <th>2</th>\n",
       "      <td>3</td>\n",
       "      <td>7</td>\n",
       "      <td>5784</td>\n",
       "      <td>1</td>\n",
       "      <td>33</td>\n",
       "      <td>4373</td>\n",
       "      <td>4</td>\n",
       "      <td>41</td>\n",
       "      <td>3242</td>\n",
       "      <td>1</td>\n",
       "      <td>...</td>\n",
       "      <td>2</td>\n",
       "      <td>1</td>\n",
       "      <td>1</td>\n",
       "      <td>4</td>\n",
       "      <td>3</td>\n",
       "      <td>60</td>\n",
       "      <td>1</td>\n",
       "      <td>1</td>\n",
       "      <td>3</td>\n",
       "      <td>NaN</td>\n",
       "    </tr>\n",
       "    <tr>\n",
       "      <th>3</th>\n",
       "      <td>2</td>\n",
       "      <td>23</td>\n",
       "      <td>5081</td>\n",
       "      <td>3</td>\n",
       "      <td>11</td>\n",
       "      <td>6837</td>\n",
       "      <td>2</td>\n",
       "      <td>37</td>\n",
       "      <td>5521</td>\n",
       "      <td>1</td>\n",
       "      <td>...</td>\n",
       "      <td>2</td>\n",
       "      <td>1</td>\n",
       "      <td>2</td>\n",
       "      <td>4</td>\n",
       "      <td>5</td>\n",
       "      <td>70</td>\n",
       "      <td>2</td>\n",
       "      <td>1</td>\n",
       "      <td>5</td>\n",
       "      <td>biology</td>\n",
       "    </tr>\n",
       "    <tr>\n",
       "      <th>4</th>\n",
       "      <td>2</td>\n",
       "      <td>36</td>\n",
       "      <td>3215</td>\n",
       "      <td>2</td>\n",
       "      <td>13</td>\n",
       "      <td>7731</td>\n",
       "      <td>3</td>\n",
       "      <td>5</td>\n",
       "      <td>4156</td>\n",
       "      <td>4</td>\n",
       "      <td>...</td>\n",
       "      <td>2</td>\n",
       "      <td>2</td>\n",
       "      <td>3</td>\n",
       "      <td>10</td>\n",
       "      <td>1</td>\n",
       "      <td>10</td>\n",
       "      <td>2</td>\n",
       "      <td>1</td>\n",
       "      <td>4</td>\n",
       "      <td>Psychology</td>\n",
       "    </tr>\n",
       "  </tbody>\n",
       "</table>\n",
       "<p>5 rows × 172 columns</p>\n",
       "</div>"
      ],
      "text/plain": [
       "   Q1A  Q1I   Q1E  Q2A  Q2I   Q2E  Q3A  Q3I   Q3E  Q4A  ...  screensize  \\\n",
       "0    4   28  3890    4   25  2122    2   16  1944    4  ...           1   \n",
       "1    4    2  8118    1   36  2890    2   35  4777    3  ...           2   \n",
       "2    3    7  5784    1   33  4373    4   41  3242    1  ...           2   \n",
       "3    2   23  5081    3   11  6837    2   37  5521    1  ...           2   \n",
       "4    2   36  3215    2   13  7731    3    5  4156    4  ...           2   \n",
       "\n",
       "   uniquenetworklocation  hand  religion  orientation  race  voted  married  \\\n",
       "0                      1     1        12            1    10      2        1   \n",
       "1                      1     2         7            0    70      2        1   \n",
       "2                      1     1         4            3    60      1        1   \n",
       "3                      1     2         4            5    70      2        1   \n",
       "4                      2     3        10            1    10      2        1   \n",
       "\n",
       "   familysize       major  \n",
       "0           2         NaN  \n",
       "1           4         NaN  \n",
       "2           3         NaN  \n",
       "3           5     biology  \n",
       "4           4  Psychology  \n",
       "\n",
       "[5 rows x 172 columns]"
      ]
     },
     "execution_count": 3,
     "metadata": {},
     "output_type": "execute_result"
    }
   ],
   "source": [
    "df = pd.read_csv('data.csv')\n",
    "df.head()"
   ]
  },
  {
   "cell_type": "code",
   "execution_count": null,
   "id": "fd72fb16",
   "metadata": {},
   "outputs": [],
   "source": [
    "df.dtypes"
   ]
  },
  {
   "cell_type": "code",
   "execution_count": 14,
   "id": "8290f2e3",
   "metadata": {},
   "outputs": [
    {
     "name": "stdout",
     "output_type": "stream",
     "text": [
      "<class 'pandas.core.frame.DataFrame'>\n",
      "RangeIndex: 39775 entries, 0 to 39774\n",
      "Columns: 172 entries, Q1A to major\n",
      "dtypes: int64(170), object(2)\n",
      "memory usage: 52.2+ MB\n"
     ]
    }
   ],
   "source": [
    "df.info()"
   ]
  },
  {
   "cell_type": "markdown",
   "id": "c41fc87e",
   "metadata": {},
   "source": [
    "<a class=\"anchor\" id=\"data_preprocessing\"></a>"
   ]
  },
  {
   "cell_type": "markdown",
   "id": "410ee23b",
   "metadata": {},
   "source": [
    "## Data Pre-processing <a class=\"anchor\" id=\"data_cleaning\"></a> "
   ]
  },
  {
   "cell_type": "markdown",
   "id": "8cd50183",
   "metadata": {},
   "source": [
    "### Data Cleaning "
   ]
  },
  {
   "cell_type": "code",
   "execution_count": 15,
   "id": "838d43eb",
   "metadata": {},
   "outputs": [
    {
     "data": {
      "text/html": [
       "<div>\n",
       "<style scoped>\n",
       "    .dataframe tbody tr th:only-of-type {\n",
       "        vertical-align: middle;\n",
       "    }\n",
       "\n",
       "    .dataframe tbody tr th {\n",
       "        vertical-align: top;\n",
       "    }\n",
       "\n",
       "    .dataframe thead th {\n",
       "        text-align: right;\n",
       "    }\n",
       "</style>\n",
       "<table border=\"1\" class=\"dataframe\">\n",
       "  <thead>\n",
       "    <tr style=\"text-align: right;\">\n",
       "      <th></th>\n",
       "      <th>Q1A</th>\n",
       "      <th>Q1I</th>\n",
       "      <th>Q1E</th>\n",
       "      <th>Q2A</th>\n",
       "      <th>Q2I</th>\n",
       "      <th>Q2E</th>\n",
       "      <th>Q3A</th>\n",
       "      <th>Q3I</th>\n",
       "      <th>Q3E</th>\n",
       "      <th>Q4A</th>\n",
       "      <th>...</th>\n",
       "      <th>screensize</th>\n",
       "      <th>uniquenetworklocation</th>\n",
       "      <th>hand</th>\n",
       "      <th>religion</th>\n",
       "      <th>orientation</th>\n",
       "      <th>race</th>\n",
       "      <th>voted</th>\n",
       "      <th>married</th>\n",
       "      <th>familysize</th>\n",
       "      <th>major</th>\n",
       "    </tr>\n",
       "  </thead>\n",
       "  <tbody>\n",
       "    <tr>\n",
       "      <th>0</th>\n",
       "      <td>False</td>\n",
       "      <td>False</td>\n",
       "      <td>False</td>\n",
       "      <td>False</td>\n",
       "      <td>False</td>\n",
       "      <td>False</td>\n",
       "      <td>False</td>\n",
       "      <td>False</td>\n",
       "      <td>False</td>\n",
       "      <td>False</td>\n",
       "      <td>...</td>\n",
       "      <td>False</td>\n",
       "      <td>False</td>\n",
       "      <td>False</td>\n",
       "      <td>False</td>\n",
       "      <td>False</td>\n",
       "      <td>False</td>\n",
       "      <td>False</td>\n",
       "      <td>False</td>\n",
       "      <td>False</td>\n",
       "      <td>True</td>\n",
       "    </tr>\n",
       "    <tr>\n",
       "      <th>1</th>\n",
       "      <td>False</td>\n",
       "      <td>False</td>\n",
       "      <td>False</td>\n",
       "      <td>False</td>\n",
       "      <td>False</td>\n",
       "      <td>False</td>\n",
       "      <td>False</td>\n",
       "      <td>False</td>\n",
       "      <td>False</td>\n",
       "      <td>False</td>\n",
       "      <td>...</td>\n",
       "      <td>False</td>\n",
       "      <td>False</td>\n",
       "      <td>False</td>\n",
       "      <td>False</td>\n",
       "      <td>False</td>\n",
       "      <td>False</td>\n",
       "      <td>False</td>\n",
       "      <td>False</td>\n",
       "      <td>False</td>\n",
       "      <td>True</td>\n",
       "    </tr>\n",
       "    <tr>\n",
       "      <th>2</th>\n",
       "      <td>False</td>\n",
       "      <td>False</td>\n",
       "      <td>False</td>\n",
       "      <td>False</td>\n",
       "      <td>False</td>\n",
       "      <td>False</td>\n",
       "      <td>False</td>\n",
       "      <td>False</td>\n",
       "      <td>False</td>\n",
       "      <td>False</td>\n",
       "      <td>...</td>\n",
       "      <td>False</td>\n",
       "      <td>False</td>\n",
       "      <td>False</td>\n",
       "      <td>False</td>\n",
       "      <td>False</td>\n",
       "      <td>False</td>\n",
       "      <td>False</td>\n",
       "      <td>False</td>\n",
       "      <td>False</td>\n",
       "      <td>True</td>\n",
       "    </tr>\n",
       "    <tr>\n",
       "      <th>3</th>\n",
       "      <td>False</td>\n",
       "      <td>False</td>\n",
       "      <td>False</td>\n",
       "      <td>False</td>\n",
       "      <td>False</td>\n",
       "      <td>False</td>\n",
       "      <td>False</td>\n",
       "      <td>False</td>\n",
       "      <td>False</td>\n",
       "      <td>False</td>\n",
       "      <td>...</td>\n",
       "      <td>False</td>\n",
       "      <td>False</td>\n",
       "      <td>False</td>\n",
       "      <td>False</td>\n",
       "      <td>False</td>\n",
       "      <td>False</td>\n",
       "      <td>False</td>\n",
       "      <td>False</td>\n",
       "      <td>False</td>\n",
       "      <td>False</td>\n",
       "    </tr>\n",
       "    <tr>\n",
       "      <th>4</th>\n",
       "      <td>False</td>\n",
       "      <td>False</td>\n",
       "      <td>False</td>\n",
       "      <td>False</td>\n",
       "      <td>False</td>\n",
       "      <td>False</td>\n",
       "      <td>False</td>\n",
       "      <td>False</td>\n",
       "      <td>False</td>\n",
       "      <td>False</td>\n",
       "      <td>...</td>\n",
       "      <td>False</td>\n",
       "      <td>False</td>\n",
       "      <td>False</td>\n",
       "      <td>False</td>\n",
       "      <td>False</td>\n",
       "      <td>False</td>\n",
       "      <td>False</td>\n",
       "      <td>False</td>\n",
       "      <td>False</td>\n",
       "      <td>False</td>\n",
       "    </tr>\n",
       "    <tr>\n",
       "      <th>...</th>\n",
       "      <td>...</td>\n",
       "      <td>...</td>\n",
       "      <td>...</td>\n",
       "      <td>...</td>\n",
       "      <td>...</td>\n",
       "      <td>...</td>\n",
       "      <td>...</td>\n",
       "      <td>...</td>\n",
       "      <td>...</td>\n",
       "      <td>...</td>\n",
       "      <td>...</td>\n",
       "      <td>...</td>\n",
       "      <td>...</td>\n",
       "      <td>...</td>\n",
       "      <td>...</td>\n",
       "      <td>...</td>\n",
       "      <td>...</td>\n",
       "      <td>...</td>\n",
       "      <td>...</td>\n",
       "      <td>...</td>\n",
       "      <td>...</td>\n",
       "    </tr>\n",
       "    <tr>\n",
       "      <th>39770</th>\n",
       "      <td>False</td>\n",
       "      <td>False</td>\n",
       "      <td>False</td>\n",
       "      <td>False</td>\n",
       "      <td>False</td>\n",
       "      <td>False</td>\n",
       "      <td>False</td>\n",
       "      <td>False</td>\n",
       "      <td>False</td>\n",
       "      <td>False</td>\n",
       "      <td>...</td>\n",
       "      <td>False</td>\n",
       "      <td>False</td>\n",
       "      <td>False</td>\n",
       "      <td>False</td>\n",
       "      <td>False</td>\n",
       "      <td>False</td>\n",
       "      <td>False</td>\n",
       "      <td>False</td>\n",
       "      <td>False</td>\n",
       "      <td>True</td>\n",
       "    </tr>\n",
       "    <tr>\n",
       "      <th>39771</th>\n",
       "      <td>False</td>\n",
       "      <td>False</td>\n",
       "      <td>False</td>\n",
       "      <td>False</td>\n",
       "      <td>False</td>\n",
       "      <td>False</td>\n",
       "      <td>False</td>\n",
       "      <td>False</td>\n",
       "      <td>False</td>\n",
       "      <td>False</td>\n",
       "      <td>...</td>\n",
       "      <td>False</td>\n",
       "      <td>False</td>\n",
       "      <td>False</td>\n",
       "      <td>False</td>\n",
       "      <td>False</td>\n",
       "      <td>False</td>\n",
       "      <td>False</td>\n",
       "      <td>False</td>\n",
       "      <td>False</td>\n",
       "      <td>False</td>\n",
       "    </tr>\n",
       "    <tr>\n",
       "      <th>39772</th>\n",
       "      <td>False</td>\n",
       "      <td>False</td>\n",
       "      <td>False</td>\n",
       "      <td>False</td>\n",
       "      <td>False</td>\n",
       "      <td>False</td>\n",
       "      <td>False</td>\n",
       "      <td>False</td>\n",
       "      <td>False</td>\n",
       "      <td>False</td>\n",
       "      <td>...</td>\n",
       "      <td>False</td>\n",
       "      <td>False</td>\n",
       "      <td>False</td>\n",
       "      <td>False</td>\n",
       "      <td>False</td>\n",
       "      <td>False</td>\n",
       "      <td>False</td>\n",
       "      <td>False</td>\n",
       "      <td>False</td>\n",
       "      <td>False</td>\n",
       "    </tr>\n",
       "    <tr>\n",
       "      <th>39773</th>\n",
       "      <td>False</td>\n",
       "      <td>False</td>\n",
       "      <td>False</td>\n",
       "      <td>False</td>\n",
       "      <td>False</td>\n",
       "      <td>False</td>\n",
       "      <td>False</td>\n",
       "      <td>False</td>\n",
       "      <td>False</td>\n",
       "      <td>False</td>\n",
       "      <td>...</td>\n",
       "      <td>False</td>\n",
       "      <td>False</td>\n",
       "      <td>False</td>\n",
       "      <td>False</td>\n",
       "      <td>False</td>\n",
       "      <td>False</td>\n",
       "      <td>False</td>\n",
       "      <td>False</td>\n",
       "      <td>False</td>\n",
       "      <td>False</td>\n",
       "    </tr>\n",
       "    <tr>\n",
       "      <th>39774</th>\n",
       "      <td>False</td>\n",
       "      <td>False</td>\n",
       "      <td>False</td>\n",
       "      <td>False</td>\n",
       "      <td>False</td>\n",
       "      <td>False</td>\n",
       "      <td>False</td>\n",
       "      <td>False</td>\n",
       "      <td>False</td>\n",
       "      <td>False</td>\n",
       "      <td>...</td>\n",
       "      <td>False</td>\n",
       "      <td>False</td>\n",
       "      <td>False</td>\n",
       "      <td>False</td>\n",
       "      <td>False</td>\n",
       "      <td>False</td>\n",
       "      <td>False</td>\n",
       "      <td>False</td>\n",
       "      <td>False</td>\n",
       "      <td>False</td>\n",
       "    </tr>\n",
       "  </tbody>\n",
       "</table>\n",
       "<p>39775 rows × 172 columns</p>\n",
       "</div>"
      ],
      "text/plain": [
       "         Q1A    Q1I    Q1E    Q2A    Q2I    Q2E    Q3A    Q3I    Q3E    Q4A  \\\n",
       "0      False  False  False  False  False  False  False  False  False  False   \n",
       "1      False  False  False  False  False  False  False  False  False  False   \n",
       "2      False  False  False  False  False  False  False  False  False  False   \n",
       "3      False  False  False  False  False  False  False  False  False  False   \n",
       "4      False  False  False  False  False  False  False  False  False  False   \n",
       "...      ...    ...    ...    ...    ...    ...    ...    ...    ...    ...   \n",
       "39770  False  False  False  False  False  False  False  False  False  False   \n",
       "39771  False  False  False  False  False  False  False  False  False  False   \n",
       "39772  False  False  False  False  False  False  False  False  False  False   \n",
       "39773  False  False  False  False  False  False  False  False  False  False   \n",
       "39774  False  False  False  False  False  False  False  False  False  False   \n",
       "\n",
       "       ...  screensize  uniquenetworklocation   hand  religion  orientation  \\\n",
       "0      ...       False                  False  False     False        False   \n",
       "1      ...       False                  False  False     False        False   \n",
       "2      ...       False                  False  False     False        False   \n",
       "3      ...       False                  False  False     False        False   \n",
       "4      ...       False                  False  False     False        False   \n",
       "...    ...         ...                    ...    ...       ...          ...   \n",
       "39770  ...       False                  False  False     False        False   \n",
       "39771  ...       False                  False  False     False        False   \n",
       "39772  ...       False                  False  False     False        False   \n",
       "39773  ...       False                  False  False     False        False   \n",
       "39774  ...       False                  False  False     False        False   \n",
       "\n",
       "        race  voted  married  familysize  major  \n",
       "0      False  False    False       False   True  \n",
       "1      False  False    False       False   True  \n",
       "2      False  False    False       False   True  \n",
       "3      False  False    False       False  False  \n",
       "4      False  False    False       False  False  \n",
       "...      ...    ...      ...         ...    ...  \n",
       "39770  False  False    False       False   True  \n",
       "39771  False  False    False       False  False  \n",
       "39772  False  False    False       False  False  \n",
       "39773  False  False    False       False  False  \n",
       "39774  False  False    False       False  False  \n",
       "\n",
       "[39775 rows x 172 columns]"
      ]
     },
     "execution_count": 15,
     "metadata": {},
     "output_type": "execute_result"
    }
   ],
   "source": [
    "df.isna()"
   ]
  },
  {
   "cell_type": "code",
   "execution_count": 13,
   "id": "32b822a8",
   "metadata": {},
   "outputs": [
    {
     "data": {
      "text/plain": [
       "Q1A               0\n",
       "Q1I               0\n",
       "Q1E               0\n",
       "Q2A               0\n",
       "Q2I               0\n",
       "              ...  \n",
       "race              0\n",
       "voted             0\n",
       "married           0\n",
       "familysize        0\n",
       "major         11403\n",
       "Length: 172, dtype: int64"
      ]
     },
     "execution_count": 13,
     "metadata": {},
     "output_type": "execute_result"
    }
   ],
   "source": [
    "df.isna().sum()"
   ]
  },
  {
   "cell_type": "code",
   "execution_count": 22,
   "id": "a3f4bb65",
   "metadata": {},
   "outputs": [
    {
     "data": {
      "text/plain": [
       "11405"
      ]
     },
     "execution_count": 22,
     "metadata": {},
     "output_type": "execute_result"
    }
   ],
   "source": [
    "sum(df.isna().sum())"
   ]
  },
  {
   "cell_type": "code",
   "execution_count": 21,
   "id": "01ac0280",
   "metadata": {},
   "outputs": [
    {
     "data": {
      "image/png": "[encoded data removed]",
      "text/plain": [
       "<Figure size 1800x720 with 2 Axes>"
      ]
     },
     "metadata": {
      "needs_background": "light"
     },
     "output_type": "display_data"
    }
   ],
   "source": [
    "msno.matrix(df)\n",
    "plt.show()\n",
    "#plt.savefig('missing.png')"
   ]
  },
  {
   "cell_type": "code",
   "execution_count": 18,
   "id": "2c085478",
   "metadata": {},
   "outputs": [
    {
     "data": {
      "text/html": [
       "<div>\n",
       "<style scoped>\n",
       "    .dataframe tbody tr th:only-of-type {\n",
       "        vertical-align: middle;\n",
       "    }\n",
       "\n",
       "    .dataframe tbody tr th {\n",
       "        vertical-align: top;\n",
       "    }\n",
       "\n",
       "    .dataframe thead th {\n",
       "        text-align: right;\n",
       "    }\n",
       "</style>\n",
       "<table border=\"1\" class=\"dataframe\">\n",
       "  <thead>\n",
       "    <tr style=\"text-align: right;\">\n",
       "      <th></th>\n",
       "      <th>Q1A</th>\n",
       "      <th>Q1I</th>\n",
       "      <th>Q1E</th>\n",
       "      <th>Q2A</th>\n",
       "      <th>Q2I</th>\n",
       "      <th>Q2E</th>\n",
       "      <th>Q3A</th>\n",
       "      <th>Q3I</th>\n",
       "      <th>Q3E</th>\n",
       "      <th>Q4A</th>\n",
       "      <th>...</th>\n",
       "      <th>age</th>\n",
       "      <th>screensize</th>\n",
       "      <th>uniquenetworklocation</th>\n",
       "      <th>hand</th>\n",
       "      <th>religion</th>\n",
       "      <th>orientation</th>\n",
       "      <th>race</th>\n",
       "      <th>voted</th>\n",
       "      <th>married</th>\n",
       "      <th>familysize</th>\n",
       "    </tr>\n",
       "  </thead>\n",
       "  <tbody>\n",
       "    <tr>\n",
       "      <th>count</th>\n",
       "      <td>39775.000000</td>\n",
       "      <td>39775.000000</td>\n",
       "      <td>3.977500e+04</td>\n",
       "      <td>39775.000000</td>\n",
       "      <td>39775.000000</td>\n",
       "      <td>3.977500e+04</td>\n",
       "      <td>39775.000000</td>\n",
       "      <td>39775.000000</td>\n",
       "      <td>3.977500e+04</td>\n",
       "      <td>39775.000000</td>\n",
       "      <td>...</td>\n",
       "      <td>39775.000000</td>\n",
       "      <td>39775.000000</td>\n",
       "      <td>39775.000000</td>\n",
       "      <td>39775.00000</td>\n",
       "      <td>39775.000000</td>\n",
       "      <td>39775.000000</td>\n",
       "      <td>39775.000000</td>\n",
       "      <td>39775.000000</td>\n",
       "      <td>39775.000000</td>\n",
       "      <td>39775.000000</td>\n",
       "    </tr>\n",
       "    <tr>\n",
       "      <th>mean</th>\n",
       "      <td>2.619485</td>\n",
       "      <td>21.555977</td>\n",
       "      <td>6.970591e+03</td>\n",
       "      <td>2.172269</td>\n",
       "      <td>21.248070</td>\n",
       "      <td>5.332376e+03</td>\n",
       "      <td>2.226097</td>\n",
       "      <td>21.583004</td>\n",
       "      <td>7.426446e+03</td>\n",
       "      <td>1.950170</td>\n",
       "      <td>...</td>\n",
       "      <td>23.612168</td>\n",
       "      <td>1.274519</td>\n",
       "      <td>1.200025</td>\n",
       "      <td>1.13516</td>\n",
       "      <td>7.555852</td>\n",
       "      <td>1.642992</td>\n",
       "      <td>31.312885</td>\n",
       "      <td>1.705795</td>\n",
       "      <td>1.159547</td>\n",
       "      <td>3.510270</td>\n",
       "    </tr>\n",
       "    <tr>\n",
       "      <th>std</th>\n",
       "      <td>1.032117</td>\n",
       "      <td>12.133621</td>\n",
       "      <td>8.670513e+04</td>\n",
       "      <td>1.111563</td>\n",
       "      <td>12.125288</td>\n",
       "      <td>2.651361e+04</td>\n",
       "      <td>1.038526</td>\n",
       "      <td>12.115637</td>\n",
       "      <td>1.587024e+05</td>\n",
       "      <td>1.042218</td>\n",
       "      <td>...</td>\n",
       "      <td>21.581722</td>\n",
       "      <td>0.446277</td>\n",
       "      <td>0.400024</td>\n",
       "      <td>0.40030</td>\n",
       "      <td>3.554395</td>\n",
       "      <td>1.351362</td>\n",
       "      <td>25.871272</td>\n",
       "      <td>0.473388</td>\n",
       "      <td>0.445882</td>\n",
       "      <td>2.141518</td>\n",
       "    </tr>\n",
       "    <tr>\n",
       "      <th>min</th>\n",
       "      <td>1.000000</td>\n",
       "      <td>1.000000</td>\n",
       "      <td>1.800000e+02</td>\n",
       "      <td>1.000000</td>\n",
       "      <td>1.000000</td>\n",
       "      <td>1.760000e+02</td>\n",
       "      <td>1.000000</td>\n",
       "      <td>1.000000</td>\n",
       "      <td>-1.081400e+04</td>\n",
       "      <td>1.000000</td>\n",
       "      <td>...</td>\n",
       "      <td>13.000000</td>\n",
       "      <td>1.000000</td>\n",
       "      <td>1.000000</td>\n",
       "      <td>0.00000</td>\n",
       "      <td>0.000000</td>\n",
       "      <td>0.000000</td>\n",
       "      <td>10.000000</td>\n",
       "      <td>0.000000</td>\n",
       "      <td>0.000000</td>\n",
       "      <td>0.000000</td>\n",
       "    </tr>\n",
       "    <tr>\n",
       "      <th>25%</th>\n",
       "      <td>2.000000</td>\n",
       "      <td>11.000000</td>\n",
       "      <td>2.664000e+03</td>\n",
       "      <td>1.000000</td>\n",
       "      <td>11.000000</td>\n",
       "      <td>2.477000e+03</td>\n",
       "      <td>1.000000</td>\n",
       "      <td>11.000000</td>\n",
       "      <td>2.857000e+03</td>\n",
       "      <td>1.000000</td>\n",
       "      <td>...</td>\n",
       "      <td>18.000000</td>\n",
       "      <td>1.000000</td>\n",
       "      <td>1.000000</td>\n",
       "      <td>1.00000</td>\n",
       "      <td>4.000000</td>\n",
       "      <td>1.000000</td>\n",
       "      <td>10.000000</td>\n",
       "      <td>1.000000</td>\n",
       "      <td>1.000000</td>\n",
       "      <td>2.000000</td>\n",
       "    </tr>\n",
       "    <tr>\n",
       "      <th>50%</th>\n",
       "      <td>3.000000</td>\n",
       "      <td>22.000000</td>\n",
       "      <td>3.609000e+03</td>\n",
       "      <td>2.000000</td>\n",
       "      <td>21.000000</td>\n",
       "      <td>3.511000e+03</td>\n",
       "      <td>2.000000</td>\n",
       "      <td>22.000000</td>\n",
       "      <td>3.898000e+03</td>\n",
       "      <td>2.000000</td>\n",
       "      <td>...</td>\n",
       "      <td>21.000000</td>\n",
       "      <td>1.000000</td>\n",
       "      <td>1.000000</td>\n",
       "      <td>1.00000</td>\n",
       "      <td>10.000000</td>\n",
       "      <td>1.000000</td>\n",
       "      <td>10.000000</td>\n",
       "      <td>2.000000</td>\n",
       "      <td>1.000000</td>\n",
       "      <td>3.000000</td>\n",
       "    </tr>\n",
       "    <tr>\n",
       "      <th>75%</th>\n",
       "      <td>4.000000</td>\n",
       "      <td>32.000000</td>\n",
       "      <td>5.358000e+03</td>\n",
       "      <td>3.000000</td>\n",
       "      <td>32.000000</td>\n",
       "      <td>5.216000e+03</td>\n",
       "      <td>3.000000</td>\n",
       "      <td>32.000000</td>\n",
       "      <td>5.766000e+03</td>\n",
       "      <td>3.000000</td>\n",
       "      <td>...</td>\n",
       "      <td>25.000000</td>\n",
       "      <td>2.000000</td>\n",
       "      <td>1.000000</td>\n",
       "      <td>1.00000</td>\n",
       "      <td>10.000000</td>\n",
       "      <td>2.000000</td>\n",
       "      <td>60.000000</td>\n",
       "      <td>2.000000</td>\n",
       "      <td>1.000000</td>\n",
       "      <td>4.000000</td>\n",
       "    </tr>\n",
       "    <tr>\n",
       "      <th>max</th>\n",
       "      <td>4.000000</td>\n",
       "      <td>42.000000</td>\n",
       "      <td>1.210228e+07</td>\n",
       "      <td>4.000000</td>\n",
       "      <td>42.000000</td>\n",
       "      <td>2.161057e+06</td>\n",
       "      <td>4.000000</td>\n",
       "      <td>42.000000</td>\n",
       "      <td>2.858269e+07</td>\n",
       "      <td>4.000000</td>\n",
       "      <td>...</td>\n",
       "      <td>1998.000000</td>\n",
       "      <td>2.000000</td>\n",
       "      <td>2.000000</td>\n",
       "      <td>3.00000</td>\n",
       "      <td>12.000000</td>\n",
       "      <td>5.000000</td>\n",
       "      <td>70.000000</td>\n",
       "      <td>2.000000</td>\n",
       "      <td>3.000000</td>\n",
       "      <td>133.000000</td>\n",
       "    </tr>\n",
       "  </tbody>\n",
       "</table>\n",
       "<p>8 rows × 170 columns</p>\n",
       "</div>"
      ],
      "text/plain": [
       "                Q1A           Q1I           Q1E           Q2A           Q2I  \\\n",
       "count  39775.000000  39775.000000  3.977500e+04  39775.000000  39775.000000   \n",
       "mean       2.619485     21.555977  6.970591e+03      2.172269     21.248070   \n",
       "std        1.032117     12.133621  8.670513e+04      1.111563     12.125288   \n",
       "min        1.000000      1.000000  1.800000e+02      1.000000      1.000000   \n",
       "25%        2.000000     11.000000  2.664000e+03      1.000000     11.000000   \n",
       "50%        3.000000     22.000000  3.609000e+03      2.000000     21.000000   \n",
       "75%        4.000000     32.000000  5.358000e+03      3.000000     32.000000   \n",
       "max        4.000000     42.000000  1.210228e+07      4.000000     42.000000   \n",
       "\n",
       "                Q2E           Q3A           Q3I           Q3E           Q4A  \\\n",
       "count  3.977500e+04  39775.000000  39775.000000  3.977500e+04  39775.000000   \n",
       "mean   5.332376e+03      2.226097     21.583004  7.426446e+03      1.950170   \n",
       "std    2.651361e+04      1.038526     12.115637  1.587024e+05      1.042218   \n",
       "min    1.760000e+02      1.000000      1.000000 -1.081400e+04      1.000000   \n",
       "25%    2.477000e+03      1.000000     11.000000  2.857000e+03      1.000000   \n",
       "50%    3.511000e+03      2.000000     22.000000  3.898000e+03      2.000000   \n",
       "75%    5.216000e+03      3.000000     32.000000  5.766000e+03      3.000000   \n",
       "max    2.161057e+06      4.000000     42.000000  2.858269e+07      4.000000   \n",
       "\n",
       "       ...           age    screensize  uniquenetworklocation         hand  \\\n",
       "count  ...  39775.000000  39775.000000           39775.000000  39775.00000   \n",
       "mean   ...     23.612168      1.274519               1.200025      1.13516   \n",
       "std    ...     21.581722      0.446277               0.400024      0.40030   \n",
       "min    ...     13.000000      1.000000               1.000000      0.00000   \n",
       "25%    ...     18.000000      1.000000               1.000000      1.00000   \n",
       "50%    ...     21.000000      1.000000               1.000000      1.00000   \n",
       "75%    ...     25.000000      2.000000               1.000000      1.00000   \n",
       "max    ...   1998.000000      2.000000               2.000000      3.00000   \n",
       "\n",
       "           religion   orientation          race         voted       married  \\\n",
       "count  39775.000000  39775.000000  39775.000000  39775.000000  39775.000000   \n",
       "mean       7.555852      1.642992     31.312885      1.705795      1.159547   \n",
       "std        3.554395      1.351362     25.871272      0.473388      0.445882   \n",
       "min        0.000000      0.000000     10.000000      0.000000      0.000000   \n",
       "25%        4.000000      1.000000     10.000000      1.000000      1.000000   \n",
       "50%       10.000000      1.000000     10.000000      2.000000      1.000000   \n",
       "75%       10.000000      2.000000     60.000000      2.000000      1.000000   \n",
       "max       12.000000      5.000000     70.000000      2.000000      3.000000   \n",
       "\n",
       "         familysize  \n",
       "count  39775.000000  \n",
       "mean       3.510270  \n",
       "std        2.141518  \n",
       "min        0.000000  \n",
       "25%        2.000000  \n",
       "50%        3.000000  \n",
       "75%        4.000000  \n",
       "max      133.000000  \n",
       "\n",
       "[8 rows x 170 columns]"
      ]
     },
     "execution_count": 18,
     "metadata": {},
     "output_type": "execute_result"
    }
   ],
   "source": [
    "df.describe()"
   ]
  },
  {
   "cell_type": "markdown",
   "id": "261c6721",
   "metadata": {},
   "source": [
    "<a class=\"anchor\" id=\"data_cleaning_part1\"></a>"
   ]
  },
  {
   "cell_type": "markdown",
   "id": "9860253c",
   "metadata": {},
   "source": [
    "### Data Cleaning (Replacing Missing Values in Major Column) "
   ]
  },
  {
   "cell_type": "code",
   "execution_count": 23,
   "id": "5359f510",
   "metadata": {},
   "outputs": [],
   "source": [
    "df['major'] = df['major'].fillna('Unknown')"
   ]
  },
  {
   "cell_type": "code",
   "execution_count": 47,
   "id": "99ec4d0d",
   "metadata": {},
   "outputs": [
    {
     "data": {
      "text/plain": [
       "Q1A           0\n",
       "Q1I           0\n",
       "Q1E           0\n",
       "Q2A           0\n",
       "Q2I           0\n",
       "             ..\n",
       "race          0\n",
       "voted         0\n",
       "married       0\n",
       "familysize    0\n",
       "major         0\n",
       "Length: 172, dtype: int64"
      ]
     },
     "execution_count": 47,
     "metadata": {},
     "output_type": "execute_result"
    }
   ],
   "source": [
    "df.isna().sum()"
   ]
  },
  {
   "cell_type": "code",
   "execution_count": 25,
   "id": "1489df28",
   "metadata": {},
   "outputs": [
    {
     "data": {
      "text/plain": [
       "2"
      ]
     },
     "execution_count": 25,
     "metadata": {},
     "output_type": "execute_result"
    }
   ],
   "source": [
    "sum(df.isna().sum())"
   ]
  },
  {
   "cell_type": "code",
   "execution_count": 26,
   "id": "38ef8867",
   "metadata": {},
   "outputs": [
    {
     "data": {
      "image/png": "[encoded data removed]",
      "text/plain": [
       "<Figure size 1800x720 with 2 Axes>"
      ]
     },
     "metadata": {
      "needs_background": "light"
     },
     "output_type": "display_data"
    }
   ],
   "source": [
    "msno.matrix(df)\n",
    "plt.show()"
   ]
  },
  {
   "cell_type": "markdown",
   "id": "0f294969",
   "metadata": {},
   "source": [
    "<a class=\"anchor\" id=\"data_cleaning_part2\"></a>"
   ]
  },
  {
   "cell_type": "markdown",
   "id": "0039455c",
   "metadata": {},
   "source": [
    "### Data Cleaning (Replacing Missing Values in Country Column) "
   ]
  },
  {
   "cell_type": "code",
   "execution_count": 27,
   "id": "cac317de",
   "metadata": {},
   "outputs": [
    {
     "data": {
      "text/plain": [
       "Index(['country'], dtype='object')"
      ]
     },
     "execution_count": 27,
     "metadata": {},
     "output_type": "execute_result"
    }
   ],
   "source": [
    "df.columns[df.isnull().any()]"
   ]
  },
  {
   "cell_type": "code",
   "execution_count": 30,
   "id": "58ad7224",
   "metadata": {},
   "outputs": [],
   "source": [
    "null_data = df[df.isnull().any(axis=1)]"
   ]
  },
  {
   "cell_type": "code",
   "execution_count": 34,
   "id": "cc38590f",
   "metadata": {},
   "outputs": [
    {
     "data": {
      "text/html": [
       "<div>\n",
       "<style scoped>\n",
       "    .dataframe tbody tr th:only-of-type {\n",
       "        vertical-align: middle;\n",
       "    }\n",
       "\n",
       "    .dataframe tbody tr th {\n",
       "        vertical-align: top;\n",
       "    }\n",
       "\n",
       "    .dataframe thead th {\n",
       "        text-align: right;\n",
       "    }\n",
       "</style>\n",
       "<table border=\"1\" class=\"dataframe\">\n",
       "  <thead>\n",
       "    <tr style=\"text-align: right;\">\n",
       "      <th></th>\n",
       "      <th>Q1A</th>\n",
       "      <th>Q1I</th>\n",
       "      <th>Q1E</th>\n",
       "      <th>Q2A</th>\n",
       "      <th>Q2I</th>\n",
       "      <th>Q2E</th>\n",
       "      <th>Q3A</th>\n",
       "      <th>Q3I</th>\n",
       "      <th>Q3E</th>\n",
       "      <th>Q4A</th>\n",
       "      <th>...</th>\n",
       "      <th>screensize</th>\n",
       "      <th>uniquenetworklocation</th>\n",
       "      <th>hand</th>\n",
       "      <th>religion</th>\n",
       "      <th>orientation</th>\n",
       "      <th>race</th>\n",
       "      <th>voted</th>\n",
       "      <th>married</th>\n",
       "      <th>familysize</th>\n",
       "      <th>major</th>\n",
       "    </tr>\n",
       "  </thead>\n",
       "  <tbody>\n",
       "    <tr>\n",
       "      <th>3526</th>\n",
       "      <td>2</td>\n",
       "      <td>41</td>\n",
       "      <td>2104</td>\n",
       "      <td>3</td>\n",
       "      <td>38</td>\n",
       "      <td>1710</td>\n",
       "      <td>2</td>\n",
       "      <td>29</td>\n",
       "      <td>2036</td>\n",
       "      <td>2</td>\n",
       "      <td>...</td>\n",
       "      <td>2</td>\n",
       "      <td>1</td>\n",
       "      <td>1</td>\n",
       "      <td>3</td>\n",
       "      <td>3</td>\n",
       "      <td>60</td>\n",
       "      <td>2</td>\n",
       "      <td>3</td>\n",
       "      <td>2</td>\n",
       "      <td>Industrial and Organisational Psychology</td>\n",
       "    </tr>\n",
       "    <tr>\n",
       "      <th>23744</th>\n",
       "      <td>1</td>\n",
       "      <td>11</td>\n",
       "      <td>3330</td>\n",
       "      <td>4</td>\n",
       "      <td>38</td>\n",
       "      <td>3162</td>\n",
       "      <td>4</td>\n",
       "      <td>34</td>\n",
       "      <td>3164</td>\n",
       "      <td>2</td>\n",
       "      <td>...</td>\n",
       "      <td>1</td>\n",
       "      <td>1</td>\n",
       "      <td>1</td>\n",
       "      <td>1</td>\n",
       "      <td>2</td>\n",
       "      <td>60</td>\n",
       "      <td>2</td>\n",
       "      <td>1</td>\n",
       "      <td>3</td>\n",
       "      <td>Unknown</td>\n",
       "    </tr>\n",
       "  </tbody>\n",
       "</table>\n",
       "<p>2 rows × 172 columns</p>\n",
       "</div>"
      ],
      "text/plain": [
       "       Q1A  Q1I   Q1E  Q2A  Q2I   Q2E  Q3A  Q3I   Q3E  Q4A  ...  screensize  \\\n",
       "3526     2   41  2104    3   38  1710    2   29  2036    2  ...           2   \n",
       "23744    1   11  3330    4   38  3162    4   34  3164    2  ...           1   \n",
       "\n",
       "       uniquenetworklocation  hand  religion  orientation  race  voted  \\\n",
       "3526                       1     1         3            3    60      2   \n",
       "23744                      1     1         1            2    60      2   \n",
       "\n",
       "       married  familysize                                     major  \n",
       "3526         3           2  Industrial and Organisational Psychology  \n",
       "23744        1           3                                   Unknown  \n",
       "\n",
       "[2 rows x 172 columns]"
      ]
     },
     "execution_count": 34,
     "metadata": {},
     "output_type": "execute_result"
    }
   ],
   "source": [
    "null_data"
   ]
  },
  {
   "cell_type": "code",
   "execution_count": 42,
   "id": "af357922",
   "metadata": {},
   "outputs": [
    {
     "data": {
      "text/html": [
       "<div>\n",
       "<style scoped>\n",
       "    .dataframe tbody tr th:only-of-type {\n",
       "        vertical-align: middle;\n",
       "    }\n",
       "\n",
       "    .dataframe tbody tr th {\n",
       "        vertical-align: top;\n",
       "    }\n",
       "\n",
       "    .dataframe thead th {\n",
       "        text-align: right;\n",
       "    }\n",
       "</style>\n",
       "<table border=\"1\" class=\"dataframe\">\n",
       "  <thead>\n",
       "    <tr style=\"text-align: right;\">\n",
       "      <th></th>\n",
       "      <th>Q1A</th>\n",
       "      <th>Q1I</th>\n",
       "      <th>Q1E</th>\n",
       "      <th>Q2A</th>\n",
       "      <th>Q2I</th>\n",
       "      <th>Q2E</th>\n",
       "      <th>Q3A</th>\n",
       "      <th>Q3I</th>\n",
       "      <th>Q3E</th>\n",
       "      <th>Q4A</th>\n",
       "      <th>...</th>\n",
       "      <th>Q40A</th>\n",
       "      <th>Q40I</th>\n",
       "      <th>Q40E</th>\n",
       "      <th>Q41A</th>\n",
       "      <th>Q41I</th>\n",
       "      <th>Q41E</th>\n",
       "      <th>Q42A</th>\n",
       "      <th>Q42I</th>\n",
       "      <th>Q42E</th>\n",
       "      <th>country</th>\n",
       "    </tr>\n",
       "  </thead>\n",
       "  <tbody>\n",
       "    <tr>\n",
       "      <th>3526</th>\n",
       "      <td>2</td>\n",
       "      <td>41</td>\n",
       "      <td>2104</td>\n",
       "      <td>3</td>\n",
       "      <td>38</td>\n",
       "      <td>1710</td>\n",
       "      <td>2</td>\n",
       "      <td>29</td>\n",
       "      <td>2036</td>\n",
       "      <td>2</td>\n",
       "      <td>...</td>\n",
       "      <td>1</td>\n",
       "      <td>31</td>\n",
       "      <td>3050</td>\n",
       "      <td>1</td>\n",
       "      <td>27</td>\n",
       "      <td>1598</td>\n",
       "      <td>2</td>\n",
       "      <td>1</td>\n",
       "      <td>48933</td>\n",
       "      <td>NaN</td>\n",
       "    </tr>\n",
       "    <tr>\n",
       "      <th>23744</th>\n",
       "      <td>1</td>\n",
       "      <td>11</td>\n",
       "      <td>3330</td>\n",
       "      <td>4</td>\n",
       "      <td>38</td>\n",
       "      <td>3162</td>\n",
       "      <td>4</td>\n",
       "      <td>34</td>\n",
       "      <td>3164</td>\n",
       "      <td>2</td>\n",
       "      <td>...</td>\n",
       "      <td>2</td>\n",
       "      <td>30</td>\n",
       "      <td>3833</td>\n",
       "      <td>3</td>\n",
       "      <td>41</td>\n",
       "      <td>2330</td>\n",
       "      <td>4</td>\n",
       "      <td>2</td>\n",
       "      <td>5156</td>\n",
       "      <td>NaN</td>\n",
       "    </tr>\n",
       "  </tbody>\n",
       "</table>\n",
       "<p>2 rows × 127 columns</p>\n",
       "</div>"
      ],
      "text/plain": [
       "       Q1A  Q1I   Q1E  Q2A  Q2I   Q2E  Q3A  Q3I   Q3E  Q4A  ...  Q40A  Q40I  \\\n",
       "3526     2   41  2104    3   38  1710    2   29  2036    2  ...     1    31   \n",
       "23744    1   11  3330    4   38  3162    4   34  3164    2  ...     2    30   \n",
       "\n",
       "       Q40E  Q41A  Q41I  Q41E  Q42A  Q42I   Q42E  country  \n",
       "3526   3050     1    27  1598     2     1  48933      NaN  \n",
       "23744  3833     3    41  2330     4     2   5156      NaN  \n",
       "\n",
       "[2 rows x 127 columns]"
      ]
     },
     "execution_count": 42,
     "metadata": {},
     "output_type": "execute_result"
    }
   ],
   "source": [
    "null_data.loc[:, :'country']"
   ]
  },
  {
   "cell_type": "code",
   "execution_count": 35,
   "id": "5aae6fc5",
   "metadata": {},
   "outputs": [],
   "source": [
    "df['country'] = df['country'].fillna('NONE')"
   ]
  },
  {
   "cell_type": "code",
   "execution_count": 37,
   "id": "841a7d4e",
   "metadata": {},
   "outputs": [
    {
     "data": {
      "text/plain": [
       "0"
      ]
     },
     "execution_count": 37,
     "metadata": {},
     "output_type": "execute_result"
    }
   ],
   "source": [
    "sum(df.isna().sum())"
   ]
  },
  {
   "cell_type": "code",
   "execution_count": 43,
   "id": "25704c79",
   "metadata": {},
   "outputs": [
    {
     "data": {
      "image/png": "[encoded data removed]",
      "text/plain": [
       "<Figure size 1800x720 with 2 Axes>"
      ]
     },
     "metadata": {
      "needs_background": "light"
     },
     "output_type": "display_data"
    }
   ],
   "source": [
    "msno.matrix(df)\n",
    "plt.show()"
   ]
  },
  {
   "cell_type": "markdown",
   "id": "20d0c8e3",
   "metadata": {},
   "source": [
    "<a class=\"anchor\" id=\"noise\"></a>"
   ]
  },
  {
   "cell_type": "markdown",
   "id": "fc1cc206",
   "metadata": {},
   "source": [
    "## Data Discretization <a class=\"anchor\" id=\"median\"></a>"
   ]
  },
  {
   "cell_type": "markdown",
   "id": "4e08d355",
   "metadata": {},
   "source": [
    "### Data Smoothing by Bin Median "
   ]
  },
  {
   "cell_type": "code",
   "execution_count": 9,
   "id": "7af2061b",
   "metadata": {},
   "outputs": [
    {
     "data": {
      "image/png": "[encoded data removed]",
      "text/plain": [
       "<Figure size 720x504 with 1 Axes>"
      ]
     },
     "metadata": {
      "needs_background": "light"
     },
     "output_type": "display_data"
    }
   ],
   "source": [
    "fig = plt.figure(figsize =(10, 7))\n",
    "plt.boxplot(df['Q1E'])\n",
    "plt.show()"
   ]
  },
  {
   "cell_type": "code",
   "execution_count": 11,
   "id": "b1dd0e9d",
   "metadata": {},
   "outputs": [
    {
     "data": {
      "image/png": "[encoded data removed]",
      "text/plain": [
       "<Figure size 720x504 with 1 Axes>"
      ]
     },
     "metadata": {
      "needs_background": "light"
     },
     "output_type": "display_data"
    }
   ],
   "source": [
    "fig = plt.figure(figsize =(10, 7))\n",
    "x_data = np.arange(0, len(df))\n",
    "y_data = df['Q1E']\n",
    "plt.scatter(x_data, y_data, c =\"blue\")\n",
    "plt.show()"
   ]
  },
  {
   "cell_type": "code",
   "execution_count": 35,
   "id": "129dcc73",
   "metadata": {},
   "outputs": [],
   "source": [
    "x_data = np.arange(0, len(df))\n",
    "y_data = df['Q1E']\n",
    "x_bins,bin_edges, misc = binned_statistic(y_data,x_data, statistic=\"median\", bins=4)"
   ]
  },
  {
   "cell_type": "code",
   "execution_count": 36,
   "id": "198f88ec",
   "metadata": {},
   "outputs": [],
   "source": [
    "bin_intervals = pd.IntervalIndex.from_arrays(bin_edges[:-1], bin_edges[1:])"
   ]
  },
  {
   "cell_type": "code",
   "execution_count": 37,
   "id": "c9a83791",
   "metadata": {},
   "outputs": [],
   "source": [
    "def set_to_median(x, bin_intervals):\n",
    "    for interval in bin_intervals:\n",
    "        if x in interval:\n",
    "            return interval.mid"
   ]
  },
  {
   "cell_type": "code",
   "execution_count": 38,
   "id": "3e92ed89",
   "metadata": {},
   "outputs": [],
   "source": [
    "df['sampled_Q1E'] = df['Q1E'].apply(lambda x: set_to_median(x, bin_intervals))"
   ]
  },
  {
   "cell_type": "code",
   "execution_count": 39,
   "id": "47fc9a67",
   "metadata": {},
   "outputs": [
    {
     "data": {
      "image/png": "[encoded data removed]",
      "text/plain": [
       "<Figure size 432x288 with 1 Axes>"
      ]
     },
     "metadata": {
      "needs_background": "light"
     },
     "output_type": "display_data"
    }
   ],
   "source": [
    "plt.plot(df['Q1E'], label='original')\n",
    "plt.plot(df['sampled_Q1E'], color='red', label='sampled')\n",
    "plt.legend()\n",
    "plt.show()"
   ]
  },
  {
   "cell_type": "code",
   "execution_count": 40,
   "id": "e6755a37",
   "metadata": {},
   "outputs": [
    {
     "data": {
      "text/plain": [
       "array([ 1512942.75,  4538468.25,  7563993.75, 10589519.25])"
      ]
     },
     "execution_count": 40,
     "metadata": {},
     "output_type": "execute_result"
    }
   ],
   "source": [
    "y_bins = (bin_edges[:-1]+bin_edges[1:])/2\n",
    "y_bins"
   ]
  },
  {
   "cell_type": "code",
   "execution_count": 41,
   "id": "dd320ba7",
   "metadata": {},
   "outputs": [
    {
     "data": {
      "image/png": "[encoded data removed]",
      "text/plain": [
       "<Figure size 432x288 with 1 Axes>"
      ]
     },
     "metadata": {
      "needs_background": "light"
     },
     "output_type": "display_data"
    }
   ],
   "source": [
    "plt.plot(x_data,y_data)\n",
    "plt.xlabel(\"X\"); \n",
    "plt.ylabel(\"Y\")\n",
    "plt.scatter(x_bins, y_bins,  color= 'red',linewidth=5)\n",
    "plt.show()"
   ]
  },
  {
   "cell_type": "code",
   "execution_count": 43,
   "id": "2dadfc07",
   "metadata": {},
   "outputs": [
    {
     "data": {
      "image/png": "[encoded data removed]",
      "text/plain": [
       "<Figure size 720x504 with 1 Axes>"
      ]
     },
     "metadata": {
      "needs_background": "light"
     },
     "output_type": "display_data"
    }
   ],
   "source": [
    "fig = plt.figure(figsize =(10, 7))\n",
    "x_data = np.arange(0, len(df))\n",
    "y_data = df['sampled_Q1E']\n",
    "plt.scatter(x_data, y_data, c =\"blue\")\n",
    "plt.show()"
   ]
  },
  {
   "cell_type": "markdown",
   "id": "9604b78b",
   "metadata": {},
   "source": [
    "<a class=\"anchor\" id=\"ref\"></a>"
   ]
  },
  {
   "cell_type": "markdown",
   "id": "e0400232",
   "metadata": {},
   "source": [
    "## References"
   ]
  },
  {
   "cell_type": "markdown",
   "id": "ae0b8002",
   "metadata": {},
   "source": [
    "<html>\n",
    "\n",
    "<head>\n",
    "<meta http-equiv=Content-Type content=\"text/html; charset=windows-1252\">\n",
    "<meta name=Generator content=\"Microsoft Word 15 (filtered)\">\n",
    "<style>\n",
    "<!--\n",
    " /* Font Definitions */\n",
    " @font-face\n",
    "\t{font-family:\"Cambria Math\";\n",
    "\tpanose-1:2 4 5 3 5 4 6 3 2 4;}\n",
    " /* Style Definitions */\n",
    " p\n",
    "\t{margin-right:0in;\n",
    "\tmargin-left:0in;\n",
    "\tfont-size:12.0pt;\n",
    "\tfont-family:\"Times New Roman\",serif;}\n",
    ".MsoChpDefault\n",
    "\t{font-family:\"Calibri\",sans-serif;}\n",
    ".MsoPapDefault\n",
    "\t{margin-bottom:8.0pt;\n",
    "\tline-height:107%;}\n",
    "@page WordSection1\n",
    "\t{size:595.3pt 841.9pt;\n",
    "\tmargin:1.0in 1.0in 1.0in 1.0in;}\n",
    "div.WordSection1\n",
    "\t{page:WordSection1;}\n",
    "-->\n",
    "</style>\n",
    "\n",
    "</head>\n",
    "\n",
    "<body lang=EN-US style='word-wrap:break-word'>\n",
    "\n",
    "<div class=WordSection1>\n",
    "\n",
    "<p style='margin-left:28.35pt;text-indent:-28.35pt'><span lang=EN-MY>Ay-Woan,\n",
    "P., Sarah, C. P. Y., LyInn, C., Tsyr-Jang, C., &amp; Ping-Chuan, H. (2006).\n",
    "Quality of life in depression: Predictive Models. <i>Quality of Life Research</i>,\n",
    "<i>15</i>(1), 39–48. https://doi.org/10.1007/s11136-005-0381-x </span></p>\n",
    "\n",
    "<p style='margin-left:28.35pt;text-indent:-28.35pt'><span lang=EN-MY>Elbay, R.\n",
    "Y., Kurtulmu&#351;, A., Arpac&#305;o&#287;lu, S., &amp; Karadere, E. (2020).\n",
    "Depression, anxiety, stress levels of physicians and associated factors in\n",
    "covid-19 pandemics. <i>Psychiatry Research</i>, <i>290</i>, 113130. https://doi.org/10.1016/j.psychres.2020.113130\n",
    "</span></p>\n",
    "\n",
    "<p style='margin-left:28.35pt;text-indent:-28.35pt'><span lang=EN-MY>Gao, W.,\n",
    "Ping, S., &amp; Liu, X. (2020). Gender differences in depression, anxiety, and\n",
    "stress among college students: A longitudinal study from China. <i>Journal of\n",
    "Affective Disorders</i>, <i>263</i>, 292–300. https://doi.org/10.1016/j.jad.2019.11.121\n",
    "</span></p>\n",
    "\n",
    "<p style='margin-left:28.35pt;text-indent:-28.35pt'><span lang=EN-MY>Lew, B.,\n",
    "Huen, J., Yu, P., Yuan, L., Wang, D.-F., Ping, F., Abu Talib, M., Lester, D.,\n",
    "&amp; Jia, C.-X. (2019). Associations between depression, anxiety, stress,\n",
    "hopelessness, subjective well-being, coping styles and suicide in Chinese\n",
    "University students. <i>PLOS ONE</i>, <i>14</i>(7).\n",
    "https://doi.org/10.1371/journal.pone.0217372 </span></p>\n",
    "\n",
    "<p style='margin-left:28.35pt;text-indent:-28.35pt'><span lang=EN-MY>Reece, A.\n",
    "G., &amp; Danforth, C. M. (2017). Instagram photos reveal predictive markers of\n",
    "depression. <i>EPJ Data Science</i>, <i>6</i>(1).\n",
    "https://doi.org/10.1140/epjds/s13688-017-0110-z </span></p>\n",
    "\n",
    "<p style='margin-left:28.35pt;text-indent:-28.35pt'><span lang=EN-MY>Shah, S.\n",
    "M., Mohammad, D., Qureshi, M. F., Abbas, M. Z., &amp; Aleem, S. (2020).\n",
    "Prevalence, psychological responses and associated correlates of depression,\n",
    "anxiety and stress in a global population, during the coronavirus disease\n",
    "(covid-19) pandemic. <i>Community Mental Health Journal</i>, <i>57</i>(1),\n",
    "101–110. https://doi.org/10.1007/s10597-020-00728-y</span></p>\n",
    "\n",
    "</div>\n",
    "\n",
    "</body>\n",
    "\n",
    "</html>"
   ]
  },
  {
   "cell_type": "markdown",
   "id": "1d0e307e",
   "metadata": {},
   "source": []
  }
 ],
 "metadata": {
  "kernelspec": {
   "display_name": "Python 3 (ipykernel)",
   "language": "python",
   "name": "python3"
  },
  "language_info": {
   "codemirror_mode": {
    "name": "ipython",
    "version": 3
   },
   "file_extension": ".py",
   "mimetype": "text/x-python",
   "name": "python",
   "nbconvert_exporter": "python",
   "pygments_lexer": "ipython3",
   "version": "3.9.7"
  }
 },
 "nbformat": 4,
 "nbformat_minor": 5
}
